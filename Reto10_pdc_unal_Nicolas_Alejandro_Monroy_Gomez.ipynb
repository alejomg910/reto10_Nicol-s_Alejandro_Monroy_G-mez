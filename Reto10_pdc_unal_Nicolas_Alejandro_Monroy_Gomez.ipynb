{
  "nbformat": 4,
  "nbformat_minor": 0,
  "metadata": {
    "colab": {
      "provenance": []
    },
    "kernelspec": {
      "name": "python3",
      "display_name": "Python 3"
    },
    "language_info": {
      "name": "python"
    }
  },
  "cells": [
    {
      "cell_type": "markdown",
      "source": [
        "1. Desarrolle un programa que permita realizar la suma/resta de matrices. El programa debe validar las condiciones necesarias para ejecutar la operación."
      ],
      "metadata": {
        "id": "IElf2ZaCtvJQ"
      }
    },
    {
      "cell_type": "code",
      "execution_count": 1,
      "metadata": {
        "id": "ozupbVHdb1np",
        "colab": {
          "base_uri": "https://localhost:8080/"
        },
        "outputId": "efa16d0f-c081-45c3-ec94-65125e2c6d08"
      },
      "outputs": [
        {
          "output_type": "stream",
          "name": "stdout",
          "text": [
            "Ingresa el número de filas para las matrices: 2\n",
            "Ingresa el número de columnas para las matrices: 3\n",
            "Ingresa la primera matriz:\n",
            "Ingrese los elementos de la matriz 2x3:\n",
            "Elemento [1][1]: 2\n",
            "Elemento [1][2]: 3\n",
            "Elemento [1][3]: 2\n",
            "Elemento [2][1]: 5\n",
            "Elemento [2][2]: 8\n",
            "Elemento [2][3]: 6\n",
            "Ingresa la segunda matriz:\n",
            "Ingrese los elementos de la matriz 2x3:\n",
            "Elemento [1][1]: 21\n",
            "Elemento [1][2]: 54\n",
            "Elemento [1][3]: 56\n",
            "Elemento [2][1]: 1\n",
            "Elemento [2][2]: 5\n",
            "Elemento [2][3]: 7\n",
            "Matriz 1:\n",
            "[2.0, 3.0, 2.0]\n",
            "[5.0, 8.0, 6.0]\n",
            "Matriz 2:\n",
            "[21.0, 54.0, 56.0]\n",
            "[1.0, 5.0, 7.0]\n",
            "Resultado de la suma de matrices:\n",
            "[23.0, 57.0, 58.0]\n",
            "[6.0, 13.0, 13.0]\n"
          ]
        }
      ],
      "source": [
        "##Suma de matrices\n",
        "\n",
        "def imprimir_matriz(matriz): #Funcion para mostrar la matriz como se debe ver\n",
        "    for fila in matriz:\n",
        "        print(fila)\n",
        "\n",
        "def ingresar_matriz(filas, columnas):#Funcion para ingresar las matrices por consola\n",
        "    matriz = [] #Lista vacia donde se almacenara la matriz ingresada\n",
        "    print(f\"Ingrese los elementos de la matriz {filas}x{columnas}:\")\n",
        "    for i in range(filas): #Rango para las filas\n",
        "        fila = [] #Lista vacia donde se almacenara cada fila\n",
        "        for j in range(columnas): #Rango para las columnas, recorre cada fila con un numeo determinado de iteraciones\n",
        "            valor = float(input(f\"Elemento [{i+1}][{j+1}]: \")) #Ingreso del valor de cada elemento de acuerdo a su pocision en la matriz\n",
        "            fila.append(valor) #Añade el valor al final de la fila\n",
        "        matriz.append(fila) #Añade cada fila a la matriz\n",
        "    return matriz\n",
        "\n",
        "def suma_matriz(matriz1, matriz2): #Función para sumar las dos matrices\n",
        "    filas = len(matriz1)\n",
        "    columnas = len(matriz1[0])\n",
        "    resultado = [] #Lista donde se acumulara el resultado\n",
        "    for i in range(filas): #Recorrido de cada fila\n",
        "        fila_resultado = [] #Lista donde se acumulara el resultado de cada fila\n",
        "        for j in range(columnas): #Recorrido para las columnas\n",
        "            fila_resultado.append(matriz1[i][j] + matriz2[i][j]) #Añade la suma de los elemntos de la smatrices a la lista vacia de las filas\n",
        "        resultado.append(fila_resultado) #Se añade a la matriz resultado la fla despues de haberse sumado todo\n",
        "    return resultado\n",
        "\n",
        "\n",
        "if __name__ == \"__main__\": #Función principal\n",
        "\n",
        "    filas = int(input(\"Ingresa el número de filas para las matrices: \")) #ingreso de las filas de las dos matrices\n",
        "    columnas = int(input(\"Ingresa el número de columnas para las matrices: \")) #Ingreso de las columnas de las dos matrices\n",
        "\n",
        "    print(\"Ingresa la primera matriz:\")\n",
        "    matriz1 = ingresar_matriz(filas, columnas) #ingresamos la primera matriz\n",
        "\n",
        "    print(\"Ingresa la segunda matriz:\")\n",
        "    matriz2 = ingresar_matriz(filas, columnas) #Ingresamos la segunda matriz\n",
        "\n",
        "    print(\"Matriz 1:\")\n",
        "    imprimir_matriz(matriz1) #Imprimimos la primera matriz como se debe de ver una\n",
        "\n",
        "    print(\"Matriz 2:\")\n",
        "    imprimir_matriz(matriz2) #Imprimimos la segunda matriz como se debe de ver una\n",
        "\n",
        "    print(\"Resultado de la suma de matrices:\") #Sumamos las dos matrices usando la función de suma\n",
        "    suma = suma_matriz(matriz1, matriz2)\n",
        "    imprimir_matriz(suma) #imprimimos la suma"
      ]
    },
    {
      "cell_type": "code",
      "source": [
        "##Resta de matrices\n",
        "\n",
        "def imprimir_matriz(matriz): #Funcion para mostrar la matriz como se debe ver\n",
        "    for fila in matriz:\n",
        "        print(fila)\n",
        "\n",
        "def ingresar_matriz(filas, columnas):#Funcion para ingresar las matrices por consola\n",
        "    matriz = [] #Lista vacia donde se almacenara la matriz ingresada\n",
        "    print(f\"Ingrese los elementos de la matriz {filas}x{columnas}:\")\n",
        "    for i in range(filas): #Rango para las filas\n",
        "        fila = [] #Lista vacia donde se almacenara cada fila\n",
        "        for j in range(columnas): #Rango para las columnas, recorre cada fila con un numeo determinado de iteraciones\n",
        "            valor = float(input(f\"Elemento [{i+1}][{j+1}]: \")) #Ingreso del valor de cada elemento de acuerdo a su pocision en la matriz\n",
        "            fila.append(valor) #Añade el valor al final de la fila\n",
        "        matriz.append(fila) #Añade cada fila a la matriz\n",
        "    return matriz\n",
        "\n",
        "def resta_matriz(matriz1, matriz2): #Función para sumar las dos matrices\n",
        "    filas = len(matriz1)\n",
        "    columnas = len(matriz1[0])\n",
        "    resultado = [] #Lista donde se acumulara el resultado\n",
        "    for i in range(filas): #Recorrido de cada fila\n",
        "        fila_resultado = [] #Lista donde se acumulara el resultado de cada fila\n",
        "        for j in range(columnas): #Recorrido para las columnas\n",
        "            fila_resultado.append(matriz1[i][j] - matriz2[i][j]) #Añade la resta de los elemntos de las matrices a la lista vacia de las filas\n",
        "        resultado.append(fila_resultado) #Se añade a la matriz resultado la fla despues de haberse restado todo\n",
        "    return resultado\n",
        "\n",
        "\n",
        "if __name__ == \"__main__\": #Función principal\n",
        "\n",
        "    filas = int(input(\"Ingresa el número de filas para las matrices: \")) #ingreso de las filas de las dos matrices\n",
        "    columnas = int(input(\"Ingresa el número de columnas para las matrices: \")) #Ingreso de las columnas de las dos matrices\n",
        "\n",
        "    print(\"Ingresa la primera matriz:\")\n",
        "    matriz1 = ingresar_matriz(filas, columnas) #ingresamos la primera matriz\n",
        "\n",
        "    print(\"Ingresa la segunda matriz:\")\n",
        "    matriz2 = ingresar_matriz(filas, columnas) #Ingresamos la segunda matriz\n",
        "\n",
        "    print(\"Matriz 1:\")\n",
        "    imprimir_matriz(matriz1) #Imprimimos la primera matriz como se debe de ver una\n",
        "\n",
        "    print(\"Matriz 2:\")\n",
        "    imprimir_matriz(matriz2) #Imprimimos la segunda matriz como se debe de ver una\n",
        "\n",
        "    print(\"Resultado de la resta de matrices:\") #Restamos las dos matrices usando la función de suma\n",
        "    resta = resta_matriz(matriz1, matriz2)\n",
        "    imprimir_matriz(resta) #Imprimimos la resta"
      ],
      "metadata": {
        "colab": {
          "base_uri": "https://localhost:8080/"
        },
        "id": "pwXecOP0t9Xn",
        "outputId": "7df3390c-6c52-4c6e-e089-1bc7d1aff771"
      },
      "execution_count": 2,
      "outputs": [
        {
          "output_type": "stream",
          "name": "stdout",
          "text": [
            "Ingresa el número de filas para las matrices: 2\n",
            "Ingresa el número de columnas para las matrices: 3\n",
            "Ingresa la primera matriz:\n",
            "Ingrese los elementos de la matriz 2x3:\n",
            "Elemento [1][1]: 2\n",
            "Elemento [1][2]: 3\n",
            "Elemento [1][3]: 2\n",
            "Elemento [2][1]: 5\n",
            "Elemento [2][2]: 8\n",
            "Elemento [2][3]: 6\n",
            "Ingresa la segunda matriz:\n",
            "Ingrese los elementos de la matriz 2x3:\n",
            "Elemento [1][1]: 21\n",
            "Elemento [1][2]: 54\n",
            "Elemento [1][3]: 56\n",
            "Elemento [2][1]: 1\n",
            "Elemento [2][2]: 5\n",
            "Elemento [2][3]: 7\n",
            "Matriz 1:\n",
            "[2.0, 3.0, 2.0]\n",
            "[5.0, 8.0, 6.0]\n",
            "Matriz 2:\n",
            "[21.0, 54.0, 56.0]\n",
            "[1.0, 5.0, 7.0]\n",
            "Resultado de la resta de matrices:\n",
            "[-19.0, -51.0, -54.0]\n",
            "[4.0, 3.0, -1.0]\n"
          ]
        }
      ]
    },
    {
      "cell_type": "markdown",
      "source": [
        "---"
      ],
      "metadata": {
        "id": "lwPtjYIHt15I"
      }
    },
    {
      "cell_type": "markdown",
      "source": [
        "2. Desarrolle un programa que permita realizar el producto de matrices. El programa debe validar las condiciones necesarias para ejecutar la operación."
      ],
      "metadata": {
        "id": "SZWhlpPxt1Zf"
      }
    },
    {
      "cell_type": "code",
      "source": [
        "def imprimir_matriz(matriz):  #Funcion para mostrar la matriz como se debe ver\n",
        "    for fila in matriz:\n",
        "        print(fila)\n",
        "\n",
        "def ingresar_matriz(filas, columnas):  #Funcion para ingresar las matrices por consola\n",
        "    matriz = []  #Lista vacia donde se almacenara la matriz ingresada\n",
        "    print(f\"Ingrese los elementos de la matriz {filas}x{columnas}:\")\n",
        "    for i in range(filas):  #Rango para las filas\n",
        "        fila = []  #Lista vacia donde se almacenara cada fila\n",
        "        for j in range(columnas):  #Rango para las columnas, recorre cada fila con un número determinado de iteraciones\n",
        "            valor = float(input(f\"Elemento [{i+1}][{j+1}]: \"))  #Ingreso del valor de cada elemento de acuerdo a su posición en la matriz\n",
        "            fila.append(valor)  #Añade el valor al final de la fila\n",
        "        matriz.append(fila)  #Añade cada fila a la matriz\n",
        "    return matriz\n",
        "\n",
        "def multiplicar_matrices(matriz1, matriz2):  #Funcion para multiplicar las dos matrices\n",
        "    filas_m1 = len(matriz1)\n",
        "    columnas_m1 = len(matriz1[0])\n",
        "    filas_m2 = len(matriz2)\n",
        "    columnas_m2 = len(matriz2[0])\n",
        "\n",
        "    if columnas_m1 != filas_m2: #Aqui se verifica si las dimensiones son compatibles para la multiplicacion\n",
        "        print(\"No se puede multiplicar las matrices, el número de columnas de la primera matriz debe ser igual al número de filas de la segunda matriz.\")\n",
        "        return None\n",
        "\n",
        "    resultado = [[0 for _ in range(columnas_m2)] for _ in range(filas_m1)] #Crear una matriz de resultado con las dimensiones correctas\n",
        "\n",
        "    for i in range(filas_m1): #Realizar el producto de las dos matrices\n",
        "        for j in range(columnas_m2):\n",
        "            for k in range(columnas_m1):\n",
        "                resultado[i][j] += matriz1[i][k] * matriz2[k][j]\n",
        "\n",
        "    return resultado\n",
        "\n",
        "if __name__ == \"__main__\":\n",
        "\n",
        "    filas_m1 = int(input(\"Ingrese el número de filas para la primera matriz: \")) #Ingreso de las filas de la primera matriz\n",
        "    columnas_m1 = int(input(\"Ingrese el número de columnas para la primera matriz: \")) #Ingreso de las columnas de la primera matriz\n",
        "\n",
        "    filas_m2 = int(input(\"Ingrese el número de filas para la segunda matriz: \")) #Ingreso de las filas de la segunda matriz\n",
        "    columnas_m2 = int(input(\"Ingrese el número de columnas para la segunda matriz: \")) #Ingreso de las columnas de la segunda matriz\n",
        "\n",
        "    if columnas_m1 != filas_m2: #Verificacion de si las matrices se pueden multiplicar\n",
        "        print(\"Las matrices no son compatibles para multiplicarse.\")\n",
        "    else:\n",
        "        print(\"Ingresa la primera matriz:\")\n",
        "        matriz1 = ingresar_matriz(filas_m1, columnas_m1) #Ingresamos la primera matriz\n",
        "\n",
        "        print(\"Ingresa la segunda matriz:\")\n",
        "        matriz2 = ingresar_matriz(filas_m2, columnas_m2)  #Ingresamos la segunda matriz\n",
        "\n",
        "        print(\"Matriz 1:\")\n",
        "        imprimir_matriz(matriz1) #Imprimimos la primera matriz\n",
        "\n",
        "        print(\"Matriz 2:\")\n",
        "        imprimir_matriz(matriz2) #Imprimimos la segunda matriz\n",
        "\n",
        "        print(\"Resultado del producto de matrices:\") #Aqui se multiplican las matrices\n",
        "        producto = multiplicar_matrices(matriz1, matriz2)\n",
        "\n",
        "        if producto is not None:\n",
        "            imprimir_matriz(producto) #Imprimimos el resultado de la multiplicación\n"
      ],
      "metadata": {
        "colab": {
          "base_uri": "https://localhost:8080/"
        },
        "id": "tWgkVjHctzBA",
        "outputId": "01b0605a-e57e-4081-9dab-02bcafa843fe"
      },
      "execution_count": 4,
      "outputs": [
        {
          "output_type": "stream",
          "name": "stdout",
          "text": [
            "Ingrese el número de filas para la primera matriz: 2\n",
            "Ingrese el número de columnas para la primera matriz: 2\n",
            "Ingrese el número de filas para la segunda matriz: 2\n",
            "Ingrese el número de columnas para la segunda matriz: 2\n",
            "Ingresa la primera matriz:\n",
            "Ingrese los elementos de la matriz 2x2:\n",
            "Elemento [1][1]: 2\n",
            "Elemento [1][2]: 0\n",
            "Elemento [2][1]: 1\n",
            "Elemento [2][2]: 3\n",
            "Ingresa la segunda matriz:\n",
            "Ingrese los elementos de la matriz 2x2:\n",
            "Elemento [1][1]: -1\n",
            "Elemento [1][2]: -1\n",
            "Elemento [2][1]: 5\n",
            "Elemento [2][2]: 6\n",
            "Matriz 1:\n",
            "[2.0, 0.0]\n",
            "[1.0, 3.0]\n",
            "Matriz 2:\n",
            "[-1.0, -1.0]\n",
            "[5.0, 6.0]\n",
            "Resultado del producto de matrices:\n",
            "[-2.0, -2.0]\n",
            "[14.0, 17.0]\n"
          ]
        }
      ]
    },
    {
      "cell_type": "markdown",
      "source": [
        "---"
      ],
      "metadata": {
        "id": "5fnEYD-9uGNv"
      }
    },
    {
      "cell_type": "markdown",
      "source": [
        "3. Desarrolle un programa que permita obtener la matriz transpuesta de una matriz ingresada. El programa debe validar las condiciones necesarias para ejecutar la operación.\n"
      ],
      "metadata": {
        "id": "TmHwObzTuIVg"
      }
    },
    {
      "cell_type": "code",
      "source": [
        "def es_matriz_valida(matriz): #Funcion para validar la matriz ingresada\n",
        "    if not matriz: #Verifica si la matriz esta vacia\n",
        "        return False\n",
        "    num_columnas = len(matriz[0]) #Obtiene el numero de columnas de la primera fila\n",
        "    for fila in matriz:  #Recorre cada fila de la matriz\n",
        "        if len(fila) != num_columnas:  #Verifica si todas las filas tienen el mismo numero de columnas\n",
        "            return False\n",
        "    return True\n",
        "\n",
        "def transponer_matriz(matriz): #Funcion para obtener la transpuesta de una matriz valida\n",
        "    if not es_matriz_valida(matriz): #Verifica si la matriz es valida\n",
        "        return None\n",
        "\n",
        "    matriz_transpuesta = [] #Lista vacia para la nueva matriz, la transpuesta\n",
        "    num_filas = len(matriz)\n",
        "    num_columnas = len(matriz[0])\n",
        "    for i in range(num_columnas):  # Recorre cada columna de la matriz original\n",
        "        nueva_fila = []  #Lista vacia para las filas de la matriz transpuesta\n",
        "        for j in range(num_filas):  # Recorre cada fila de la matriz original\n",
        "            nueva_fila.append(matriz[j][i])  #Añade el elemento a la nueva matriz\n",
        "        matriz_transpuesta.append(nueva_fila)  #Añade la nueva fila a la matriz transpuesta\n",
        "    return matriz_transpuesta  #Devuelve la matriz transpuesta\n",
        "\n",
        "def ingresar_matriz(): #Funcion para ingresar por consola la matriz\n",
        "    matriz = []  #Lista vacia para la matriz\n",
        "    num_filas = int(input(\"Ingrese el número de filas de la matriz: \"))  #Numero de filas\n",
        "    num_columnas = int(input(\"Ingrese el número de columnas de la matriz: \"))  #Numero de columnas\n",
        "    for i in range(num_filas):\n",
        "        fila = input(f\"Ingrese los elementos de la fila {i+1} separados por espacio: \").split()\n",
        "        fila = [int(elemento) for elemento in fila]  # Convertir cada elemento a entero usando un bucle\n",
        "        matriz.append(fila)\n",
        "    return matriz\n",
        "\n",
        "\n",
        "if __name__ == \"__main__\":\n",
        "    matriz = ingresar_matriz() #Llama a la función para ingresar la matriz\n",
        "    if es_matriz_valida(matriz): #Verifica si la matriz ingresada es valida\n",
        "        matriz_transpuesta = transponer_matriz(matriz) #Llama a la función para transponer la matriz\n",
        "        print(\"Matriz transpuesta:\")\n",
        "        for fila in matriz_transpuesta: # Recorre cada fila de la matriz transpuesta\n",
        "            print(fila)  # Imprime la fila\n",
        "    else:\n",
        "        print(\"La matriz ingresada no es válida.\")  # Imprime un mensaje indicando que la matriz no es válida"
      ],
      "metadata": {
        "colab": {
          "base_uri": "https://localhost:8080/"
        },
        "id": "QTeq3uwquHho",
        "outputId": "eef7f13a-287d-4a89-ede5-17cc0c50c900"
      },
      "execution_count": 5,
      "outputs": [
        {
          "output_type": "stream",
          "name": "stdout",
          "text": [
            "Ingrese el número de filas de la matriz: 3\n",
            "Ingrese el número de columnas de la matriz: 3\n",
            "Ingrese los elementos de la fila 1 separados por espacio: 1 2 3 \n",
            "Ingrese los elementos de la fila 2 separados por espacio: 4 5 6 \n",
            "Ingrese los elementos de la fila 3 separados por espacio: 7 8 9 \n",
            "Matriz transpuesta:\n",
            "[1, 4, 7]\n",
            "[2, 5, 8]\n",
            "[3, 6, 9]\n"
          ]
        }
      ]
    },
    {
      "cell_type": "markdown",
      "source": [
        "---"
      ],
      "metadata": {
        "id": "sa8YjSSHvGjH"
      }
    },
    {
      "cell_type": "markdown",
      "source": [
        "4. Desarrollar un programa que sume los elementos de una columna dada de una matriz."
      ],
      "metadata": {
        "id": "KdhzpoqwvHWd"
      }
    },
    {
      "cell_type": "code",
      "source": [
        "def ingresar_matriz(): #Función para el ingreso de la matriz\n",
        "    filas = int(input(\"Ingresa el número de filas de la matriz: \")) #ingreso de filas\n",
        "    columnas = int(input(\"Ingresa el número de columnas de la matriz: \")) #Ingreso de columnas\n",
        "    matriz = [] #Lista vacia apara acumular la matriz\n",
        "\n",
        "    for i in range(filas):\n",
        "        elementos_fila = input(f\"Ingresar los elementos de la fila {i + 1}, separados por espacios: \").split() #Ingreso de los elementos\n",
        "        fila = [int(elemento) for elemento in elementos_fila]\n",
        "        matriz.append(fila)  #Añadir la fila a la matriz\n",
        "    return matriz\n",
        "\n",
        "def suma_columna(matriz, columna):\n",
        "    suma = 0 #iniciamos la suma en 0\n",
        "    for fila in matriz: #recorre la matriz en busca de los elemntos de la columna dada\n",
        "        suma += fila[columna]\n",
        "    return suma\n",
        "\n",
        "if __name__ == \"__main__\":\n",
        "    matriz = ingresar_matriz() #Llamar a la función para ingresar la matriz por consola\n",
        "    columna = int(input(\"Ingresa el índice de la columna que deseas sumar (indexada desde 0): \")) #Ingreso de la columna a sumar\n",
        "    resultado = suma_columna(matriz, columna) #llama a la funcion para sumar la columna\n",
        "    print(f'La suma de los elementos de la columna {columna} es: {resultado}') #Se imprime el resultado"
      ],
      "metadata": {
        "colab": {
          "base_uri": "https://localhost:8080/"
        },
        "id": "wvp2DDJvvKkg",
        "outputId": "40fc4b03-2d6f-4b88-8498-19ffb8ee5a49"
      },
      "execution_count": 6,
      "outputs": [
        {
          "output_type": "stream",
          "name": "stdout",
          "text": [
            "Ingresa el número de filas de la matriz: 3\n",
            "Ingresa el número de columnas de la matriz: 3\n",
            "Ingresar los elementos de la fila 1, separados por espacios: 1 2 3 \n",
            "Ingresar los elementos de la fila 2, separados por espacios: 4 5 6 \n",
            "Ingresar los elementos de la fila 3, separados por espacios: 7 8 9\n",
            "Ingresa el índice de la columna que deseas sumar (indexada desde 0): 1\n",
            "La suma de los elementos de la columna 1 es: 15\n"
          ]
        }
      ]
    },
    {
      "cell_type": "markdown",
      "source": [
        "---"
      ],
      "metadata": {
        "id": "kN4UA-CsvM0H"
      }
    },
    {
      "cell_type": "markdown",
      "source": [
        "5. Desarrollar un programa que sume los elementos de una fila dada de una matriz.\n"
      ],
      "metadata": {
        "id": "uzHQTw6hvNdX"
      }
    },
    {
      "cell_type": "code",
      "source": [
        "def ingresar_matriz(): # Función para el ingreso de la matriz\n",
        "    filas = int(input(\"Ingresa el número de filas de la matriz: \")) # Ingreso de filas\n",
        "    columnas = int(input(\"Ingresa el número de columnas de la matriz: \")) # Ingreso de columnas\n",
        "    matriz = [] # Lista vacía para acumular la matriz\n",
        "\n",
        "    for i in range(filas):\n",
        "        elementos_fila = input(f\"Ingresar los elementos de la fila {i + 1}, separados por espacios: \").split() # Ingreso de los elementos\n",
        "        fila = [int(elemento) for elemento in elementos_fila]  # Convertir cada elemento a entero\n",
        "        matriz.append(fila)  # Añadir la fila a la matriz\n",
        "    return matriz\n",
        "\n",
        "def suma_fila(matriz, fila_index):\n",
        "    suma = 0 # Inicializamos la suma en 0\n",
        "    for elemento in matriz[fila_index]: # Recorremos los elementos de la fila especificada\n",
        "        suma += elemento\n",
        "    return suma\n",
        "\n",
        "if __name__ == \"__main__\":\n",
        "    matriz = ingresar_matriz() # Llamar a la función para ingresar la matriz por consola\n",
        "    fila_index = int(input(\"Ingresa el índice de la fila que deseas sumar (indexada desde 0): \")) # Ingreso de la fila a sumar\n",
        "    resultado = suma_fila(matriz, fila_index) # Llama a la función para sumar la fila\n",
        "    print(f'La suma de los elementos de la fila {fila_index} es: {resultado}') # Se imprime el resultado"
      ],
      "metadata": {
        "colab": {
          "base_uri": "https://localhost:8080/"
        },
        "id": "Es0SbtUevQlf",
        "outputId": "3b3387c3-8767-4147-dbc4-4f7547fd88b2"
      },
      "execution_count": 7,
      "outputs": [
        {
          "output_type": "stream",
          "name": "stdout",
          "text": [
            "Ingresa el número de filas de la matriz: 3\n",
            "Ingresa el número de columnas de la matriz: 3\n",
            "Ingresar los elementos de la fila 1, separados por espacios: 1 2 3\n",
            "Ingresar los elementos de la fila 2, separados por espacios: 4 5 6\n",
            "Ingresar los elementos de la fila 3, separados por espacios: 7 8 9\n",
            "Ingresa el índice de la fila que deseas sumar (indexada desde 0): 1\n",
            "La suma de los elementos de la fila 1 es: 15\n"
          ]
        }
      ]
    }
  ]
}